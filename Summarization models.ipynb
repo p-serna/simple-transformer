{
 "cells": [
  {
   "cell_type": "markdown",
   "id": "5b3d89d7",
   "metadata": {},
   "source": [
    "# Summarization models in spanish\n",
    "Following https://huggingface.co/josmunpen/mt5-small-spanish-summarization\n",
    "\n",
    "A mirar https://huggingface.co/mrm8488/bert2bert_shared-spanish-finetuned-summarization"
   ]
  },
  {
   "cell_type": "code",
   "execution_count": 1,
   "id": "ba038c70",
   "metadata": {},
   "outputs": [],
   "source": [
    "from datasets import load_dataset"
   ]
  },
  {
   "cell_type": "code",
   "execution_count": 2,
   "id": "89ae0990",
   "metadata": {},
   "outputs": [
    {
     "name": "stderr",
     "output_type": "stream",
     "text": [
      "Using custom data configuration default\n",
      "Reusing dataset quora (/home/pablo/.cache/huggingface/datasets/quora/default/0.0.0/36ba4cd42107f051a158016f1bea6ae3f4685c5df843529108a54e42d86c1e04)\n"
     ]
    },
    {
     "data": {
      "application/vnd.jupyter.widget-view+json": {
       "model_id": "8a52809dfa784514ba6e106613586edd",
       "version_major": 2,
       "version_minor": 0
      },
      "text/plain": [
       "  0%|          | 0/1 [00:00<?, ?it/s]"
      ]
     },
     "metadata": {},
     "output_type": "display_data"
    }
   ],
   "source": [
    "dataset = load_dataset(\"quora\")"
   ]
  },
  {
   "cell_type": "markdown",
   "id": "8769af4c",
   "metadata": {},
   "source": [
    "## Duplicated questions\n",
    "We check first the duplicated questions"
   ]
  },
  {
   "cell_type": "code",
   "execution_count": 3,
   "id": "e9170dbb",
   "metadata": {},
   "outputs": [
    {
     "name": "stdout",
     "output_type": "stream",
     "text": [
      "{'questions': {'id': [11, 12], 'text': ['Astrology: I am a Capricorn Sun Cap moon and cap rising...what does that say about me?', \"I'm a triple Capricorn (Sun, Moon and ascendant in Capricorn) What does this say about me?\"]}, 'is_duplicate': True}\n"
     ]
    }
   ],
   "source": [
    "for d in dataset[\"train\"]:\n",
    "    if d[\"is_duplicate\"]:\n",
    "        print(d)\n",
    "        break"
   ]
  },
  {
   "cell_type": "code",
   "execution_count": 4,
   "id": "5d3105b4",
   "metadata": {},
   "outputs": [],
   "source": [
    "ds = [d for d in dataset[\"train\"] if d[\"is_duplicate\"]]"
   ]
  },
  {
   "cell_type": "code",
   "execution_count": 5,
   "id": "4221523e",
   "metadata": {},
   "outputs": [
    {
     "data": {
      "text/plain": [
       "149263"
      ]
     },
     "execution_count": 5,
     "metadata": {},
     "output_type": "execute_result"
    }
   ],
   "source": [
    "len(ds)"
   ]
  },
  {
   "cell_type": "code",
   "execution_count": 6,
   "id": "43142fbe",
   "metadata": {},
   "outputs": [
    {
     "data": {
      "text/plain": [
       "{'questions': {'id': [37, 38],\n",
       "  'text': ['Why are so many Quora users posting questions that are readily answered on Google?',\n",
       "   'Why do people ask Quora questions which can be answered easily by Google?']},\n",
       " 'is_duplicate': True}"
      ]
     },
     "execution_count": 6,
     "metadata": {},
     "output_type": "execute_result"
    }
   ],
   "source": [
    "ds[7]"
   ]
  },
  {
   "cell_type": "markdown",
   "id": "90033cb2",
   "metadata": {},
   "source": [
    "## Loading the model\n"
   ]
  },
  {
   "cell_type": "code",
   "execution_count": 1,
   "id": "f4e7bed2",
   "metadata": {
    "scrolled": true
   },
   "outputs": [
    {
     "data": {
      "application/vnd.jupyter.widget-view+json": {
       "model_id": "5ef672c188ec4a0c885247a2653be697",
       "version_major": 2,
       "version_minor": 0
      },
      "text/plain": [
       "Downloading:   0%|          | 0.00/350 [00:00<?, ?B/s]"
      ]
     },
     "metadata": {},
     "output_type": "display_data"
    },
    {
     "data": {
      "application/vnd.jupyter.widget-view+json": {
       "model_id": "60ee863c0f2c474d9693520f613c25c8",
       "version_major": 2,
       "version_minor": 0
      },
      "text/plain": [
       "Downloading:   0%|          | 0.00/648 [00:00<?, ?B/s]"
      ]
     },
     "metadata": {},
     "output_type": "display_data"
    },
    {
     "data": {
      "application/vnd.jupyter.widget-view+json": {
       "model_id": "8a559679fc6a4b069d77e9aa190121b5",
       "version_major": 2,
       "version_minor": 0
      },
      "text/plain": [
       "Downloading:   0%|          | 0.00/4.11M [00:00<?, ?B/s]"
      ]
     },
     "metadata": {},
     "output_type": "display_data"
    },
    {
     "data": {
      "application/vnd.jupyter.widget-view+json": {
       "model_id": "14277281b847494782d377aa36aba5a5",
       "version_major": 2,
       "version_minor": 0
      },
      "text/plain": [
       "Downloading:   0%|          | 0.00/7.94M [00:00<?, ?B/s]"
      ]
     },
     "metadata": {},
     "output_type": "display_data"
    },
    {
     "data": {
      "application/vnd.jupyter.widget-view+json": {
       "model_id": "86de657c08e94965a81bef4aa292cb8f",
       "version_major": 2,
       "version_minor": 0
      },
      "text/plain": [
       "Downloading:   0%|          | 0.00/65.0 [00:00<?, ?B/s]"
      ]
     },
     "metadata": {},
     "output_type": "display_data"
    },
    {
     "data": {
      "application/vnd.jupyter.widget-view+json": {
       "model_id": "4f801edb31624db2a4b734e1580a5f51",
       "version_major": 2,
       "version_minor": 0
      },
      "text/plain": [
       "Downloading:   0%|          | 0.00/1.12G [00:00<?, ?B/s]"
      ]
     },
     "metadata": {},
     "output_type": "display_data"
    }
   ],
   "source": [
    "from transformers import AutoTokenizer, AutoModelForSeq2SeqLM\n",
    "\n",
    "tokenizer = AutoTokenizer.from_pretrained(\"josmunpen/mt5-small-spanish-summarization\")\n",
    "model = AutoModelForSeq2SeqLM.from_pretrained(\"josmunpen/mt5-small-spanish-summarization\")"
   ]
  },
  {
   "cell_type": "code",
   "execution_count": 4,
   "id": "ece02d52",
   "metadata": {},
   "outputs": [],
   "source": [
    "torch_device = \"cpu\"#'cuda' if torch.cuda.is_available() else 'cpu'\n",
    "model = model.to(torch_device)"
   ]
  },
  {
   "cell_type": "code",
   "execution_count": 5,
   "id": "dd631028",
   "metadata": {},
   "outputs": [],
   "source": [
    "MAX_LEN = 5000\n",
    "def get_response(input_text,num_return_sequences,num_beams):\n",
    "  batch = tokenizer([input_text],truncation=True,padding='longest',max_length=MAX_LEN, return_tensors=\"pt\").to(torch_device)\n",
    "  translated = model.generate(**batch,max_length=100,num_beams=num_beams, num_return_sequences=num_return_sequences, temperature=1.5)\n",
    "  tgt_text = tokenizer.batch_decode(translated, skip_special_tokens=True)\n",
    "  return tgt_text"
   ]
  },
  {
   "cell_type": "markdown",
   "id": "a8d189c4",
   "metadata": {},
   "source": [
    "## Testing the model"
   ]
  },
  {
   "cell_type": "code",
   "execution_count": 17,
   "id": "333ed475",
   "metadata": {},
   "outputs": [],
   "source": [
    "num_beams = 10\n",
    "num_return_sequences = 1\n",
    "context = \"El fin de la obligatoriedad de las mascarillas, que ha aprobado el martes el Consejo de Ministros y entra en vigor este miércoles, preocupa a la mitad de España. Un 48,5% se muestra “poco o nada seguro” cuando piensa en su día a día sin cubrebocas, frente a un 48,4% que está “muy o bastante seguro”, según una encuesta flash realizada a 500 personas por 40dB. para EL PAÍS y la Cadena SER entre el lunes y el martes. En lo que hay una clara mayoría es en el porcentaje de población que opina que se trata de una medida precipitada (un 54%, mientras un 28,2% que dice que es el momento adecuado y un 10,2% que expresa que llega tarde). También son mayoría los que seguirán usándola en los ámbitos donde dejará de ser obligatoria. Quien quiera abandonarla, podrá hacerlo en cualquier espacio interior, excepto en transportes públicos, discrecionales (como taxis), en servicios sanitarios de todo tipo, residencias (para visitantes y trabajadores) y farmacias, donde, por el momento, seguirá siendo obligatoria. A pesar de ello, el 70% cree bastante o muy probable seguir cubriéndose la cara en comercios, un porcentaje muy similar al de los que los seguirán haciendo en cines, teatros o exposiciones. Un 62,5% la seguirá llevando (bastante o muy probablemente) en centros deportivos o gimnasios, una cifra similar a la de bares y restaurantes y los centros de estudio o trabajo.  \""
   ]
  },
  {
   "cell_type": "code",
   "execution_count": 18,
   "id": "0509ae0c",
   "metadata": {},
   "outputs": [
    {
     "data": {
      "text/plain": [
       "['el fin de la obligatoriedad de las mascarillas preocupa a la mitad de españa']"
      ]
     },
     "execution_count": 18,
     "metadata": {},
     "output_type": "execute_result"
    }
   ],
   "source": [
    "get_response(context,num_return_sequences,num_beams)"
   ]
  }
 ],
 "metadata": {
  "kernelspec": {
   "display_name": "Python 3 (ipykernel)",
   "language": "python",
   "name": "python3"
  },
  "language_info": {
   "codemirror_mode": {
    "name": "ipython",
    "version": 3
   },
   "file_extension": ".py",
   "mimetype": "text/x-python",
   "name": "python",
   "nbconvert_exporter": "python",
   "pygments_lexer": "ipython3",
   "version": "3.8.12"
  }
 },
 "nbformat": 4,
 "nbformat_minor": 5
}
