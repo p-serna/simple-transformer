{
 "cells": [
  {
   "cell_type": "markdown",
   "id": "5b3d89d7",
   "metadata": {},
   "source": [
    "# Pegasus paraphrase basic - Fine tuning HuggingFace model \n",
    "\n",
    "Following https://huggingface.co/course/chapter3/3?fw=tf\n",
    "https://huggingface.co/tuner007/pegasus_paraphrase"
   ]
  },
  {
   "cell_type": "code",
   "execution_count": 1,
   "id": "ba038c70",
   "metadata": {},
   "outputs": [],
   "source": [
    "from datasets import load_dataset"
   ]
  },
  {
   "cell_type": "code",
   "execution_count": 2,
   "id": "89ae0990",
   "metadata": {},
   "outputs": [
    {
     "name": "stderr",
     "output_type": "stream",
     "text": [
      "Using custom data configuration default\n",
      "Reusing dataset quora (/home/pablo/.cache/huggingface/datasets/quora/default/0.0.0/36ba4cd42107f051a158016f1bea6ae3f4685c5df843529108a54e42d86c1e04)\n"
     ]
    },
    {
     "data": {
      "application/vnd.jupyter.widget-view+json": {
       "model_id": "0275c607972f42a2ab211dcd60f6d24a",
       "version_major": 2,
       "version_minor": 0
      },
      "text/plain": [
       "  0%|          | 0/1 [00:00<?, ?it/s]"
      ]
     },
     "metadata": {},
     "output_type": "display_data"
    }
   ],
   "source": [
    "dataset = load_dataset(\"quora\")"
   ]
  },
  {
   "cell_type": "markdown",
   "id": "8769af4c",
   "metadata": {},
   "source": [
    "## Duplicated questions\n",
    "We check first the duplicated questions"
   ]
  },
  {
   "cell_type": "code",
   "execution_count": 9,
   "id": "e9170dbb",
   "metadata": {},
   "outputs": [
    {
     "name": "stdout",
     "output_type": "stream",
     "text": [
      "{'questions': {'id': [11, 12], 'text': ['Astrology: I am a Capricorn Sun Cap moon and cap rising...what does that say about me?', \"I'm a triple Capricorn (Sun, Moon and ascendant in Capricorn) What does this say about me?\"]}, 'is_duplicate': True}\n"
     ]
    }
   ],
   "source": [
    "for d in dataset[\"train\"]:\n",
    "    if d[\"is_duplicate\"]:\n",
    "        print(d)\n",
    "        break"
   ]
  },
  {
   "cell_type": "code",
   "execution_count": 10,
   "id": "5d3105b4",
   "metadata": {},
   "outputs": [],
   "source": [
    "ds = [d for d in dataset[\"train\"] if d[\"is_duplicate\"]]"
   ]
  },
  {
   "cell_type": "code",
   "execution_count": 5,
   "id": "4221523e",
   "metadata": {},
   "outputs": [
    {
     "data": {
      "text/plain": [
       "149263"
      ]
     },
     "execution_count": 5,
     "metadata": {},
     "output_type": "execute_result"
    }
   ],
   "source": [
    "len(ds)"
   ]
  },
  {
   "cell_type": "code",
   "execution_count": 6,
   "id": "43142fbe",
   "metadata": {},
   "outputs": [
    {
     "data": {
      "text/plain": [
       "{'questions': {'id': [37, 38],\n",
       "  'text': ['Why are so many Quora users posting questions that are readily answered on Google?',\n",
       "   'Why do people ask Quora questions which can be answered easily by Google?']},\n",
       " 'is_duplicate': True}"
      ]
     },
     "execution_count": 6,
     "metadata": {},
     "output_type": "execute_result"
    }
   ],
   "source": [
    "ds[7]"
   ]
  },
  {
   "cell_type": "markdown",
   "id": "90033cb2",
   "metadata": {},
   "source": [
    "## Loading the model\n"
   ]
  },
  {
   "cell_type": "code",
   "execution_count": 3,
   "id": "f4e7bed2",
   "metadata": {},
   "outputs": [
    {
     "data": {
      "application/vnd.jupyter.widget-view+json": {
       "model_id": "f7fded81a0f246dfb8514b02e6eaa54f",
       "version_major": 2,
       "version_minor": 0
      },
      "text/plain": [
       "Downloading:   0%|          | 0.00/2.12G [00:00<?, ?B/s]"
      ]
     },
     "metadata": {},
     "output_type": "display_data"
    }
   ],
   "source": [
    "from transformers import PegasusForConditionalGeneration, PegasusTokenizer\n",
    "model_name = 'tuner007/pegasus_paraphrase'\n",
    "tokenizer = PegasusTokenizer.from_pretrained(model_name)\n",
    "model = PegasusForConditionalGeneration.from_pretrained(model_name)\n"
   ]
  },
  {
   "cell_type": "code",
   "execution_count": 4,
   "id": "ece02d52",
   "metadata": {},
   "outputs": [],
   "source": [
    "torch_device = \"cpu\"#'cuda' if torch.cuda.is_available() else 'cpu'\n",
    "model = model.to(torch_device)"
   ]
  },
  {
   "cell_type": "code",
   "execution_count": 5,
   "id": "1da907a1",
   "metadata": {},
   "outputs": [],
   "source": [
    "def get_response(input_text,num_return_sequences,num_beams):\n",
    "  batch = tokenizer([input_text],truncation=True,padding='longest',max_length=60, return_tensors=\"pt\").to(torch_device)\n",
    "  translated = model.generate(**batch,max_length=60,num_beams=num_beams, num_return_sequences=num_return_sequences, temperature=1.5)\n",
    "  tgt_text = tokenizer.batch_decode(translated, skip_special_tokens=True)\n",
    "  return tgt_text"
   ]
  },
  {
   "cell_type": "markdown",
   "id": "44fecae1",
   "metadata": {},
   "source": [
    "## Testing the model"
   ]
  },
  {
   "cell_type": "code",
   "execution_count": 8,
   "id": "eab6c73f",
   "metadata": {},
   "outputs": [
    {
     "data": {
      "text/plain": [
       "['Who is Iban Rios?',\n",
       " 'Iban Rios, who is he?',\n",
       " \"I don't know who Iban Rios is.\",\n",
       " 'Iban Rios is a person.',\n",
       " 'What is the name of Iban Rios?',\n",
       " 'Iban Rios is not known.',\n",
       " 'Iban Rios is not known to the public.',\n",
       " 'Is Iban Rios?',\n",
       " 'Iban Rios is who?',\n",
       " 'who is Iban Rios?']"
      ]
     },
     "execution_count": 8,
     "metadata": {},
     "output_type": "execute_result"
    }
   ],
   "source": [
    "num_beams = 10\n",
    "num_return_sequences = 10\n",
    "context = \"who is Iban Rios?\"\n",
    "get_response(context,num_return_sequences,num_beams)"
   ]
  },
  {
   "cell_type": "code",
   "execution_count": 11,
   "id": "a262a7b6",
   "metadata": {},
   "outputs": [],
   "source": [
    "import random"
   ]
  },
  {
   "cell_type": "code",
   "execution_count": 24,
   "id": "433d0955",
   "metadata": {},
   "outputs": [
    {
     "name": "stdout",
     "output_type": "stream",
     "text": [
      "['How should you start a career in Machine Learning?', 'How do i know i can start career in machine learning?']\n"
     ]
    },
    {
     "data": {
      "text/plain": [
       "['How should you start working in machine learning?',\n",
       " 'How should you start your career in machine learning?',\n",
       " 'How should you get started in machine learning?',\n",
       " 'How should you make a living in machine learning?',\n",
       " 'Do you know how to start a career in machine learning?',\n",
       " 'How should you begin your career in machine learning?',\n",
       " 'Do you know how to start a machine learning career?',\n",
       " 'How do you get started in machine learning?',\n",
       " 'What should you do to start a career in machine learning?',\n",
       " 'How should you get into machine learning?']"
      ]
     },
     "execution_count": 24,
     "metadata": {},
     "output_type": "execute_result"
    }
   ],
   "source": [
    "dt = random.choice(ds)\n",
    "print(dt[\"questions\"][\"text\"])\n",
    "context = dt[\"questions\"][\"text\"][0]\n",
    "get_response(context,num_return_sequences,num_beams)"
   ]
  }
 ],
 "metadata": {
  "kernelspec": {
   "display_name": "Python 3 (ipykernel)",
   "language": "python",
   "name": "python3"
  },
  "language_info": {
   "codemirror_mode": {
    "name": "ipython",
    "version": 3
   },
   "file_extension": ".py",
   "mimetype": "text/x-python",
   "name": "python",
   "nbconvert_exporter": "python",
   "pygments_lexer": "ipython3",
   "version": "3.8.12"
  }
 },
 "nbformat": 4,
 "nbformat_minor": 5
}
